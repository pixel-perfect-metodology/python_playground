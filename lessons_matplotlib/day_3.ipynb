{
  "metadata": {
    "widgets": {
      "application/vnd.jupyter.widget-state+json": {
        "version_major": 2,
        "version_minor": 0,
        "state": {}
      }
    },
    "language_info": {
      "codemirror_mode": {
        "name": "python",
        "version": 3
      },
      "file_extension": ".py",
      "mimetype": "text/x-python",
      "name": "python",
      "nbconvert_exporter": "python",
      "pygments_lexer": "ipython3",
      "version": "3.8"
    },
    "kernelspec": {
      "name": "python",
      "display_name": "Python (Pyodide)",
      "language": "python"
    }
  },
  "nbformat_minor": 4,
  "nbformat": 4,
  "cells": [
    {
      "cell_type": "code",
      "source": "import numpy as np\nimport matplotlib.pyplot as plt\n\nx = np.array([80, 85, 90, 95, 100, 105, 110, 115, 120, 125])\ny = np.array([240, 250, 260, 270, 280, 290, 300, 310, 320, 330])\n\nplt.plot(x, y)\n\nplt.xlabel(\"Average Pulse\")\nplt.ylabel(\"Calorie Burnage\")\n\nplt.show()",
      "metadata": {
        "trusted": true
      },
      "execution_count": null,
      "outputs": []
    },
    {
      "cell_type": "code",
      "source": "import numpy as np\nimport matplotlib.pyplot as plt\n\nx = np.array([80, 85, 90, 95, 100, 105, 110, 115, 120, 125])\ny = np.array([240, 250, 260, 270, 280, 290, 300, 310, 320, 330])\n\nplt.plot(x, y)\n\nplt.title(\"Sports Watch Data\")\nplt.xlabel(\"Average Pulse\")\nplt.ylabel(\"Calorie Burnage\")\n\nplt.show()",
      "metadata": {
        "trusted": true
      },
      "execution_count": null,
      "outputs": []
    },
    {
      "cell_type": "code",
      "source": "import numpy as np\nimport matplotlib.pyplot as plt\n\nx = np.array([80, 85, 90, 95, 100, 105, 110, 115, 120, 125])\ny = np.array([240, 250, 260, 270, 280, 290, 300, 310, 320, 330])\n\nfont1 = {'family':'serif','color':'blue','size':20}\nfont2 = {'family':'serif','color':'darkred','size':15}\n\nplt.title(\"Sports Watch Data\", fontdict = font1)\nplt.xlabel(\"Average Pulse\", fontdict = font2)\nplt.ylabel(\"Calorie Burnage\", fontdict = font2)\n\nplt.plot(x, y)\nplt.show()",
      "metadata": {
        "trusted": true
      },
      "execution_count": null,
      "outputs": []
    },
    {
      "cell_type": "code",
      "source": "import numpy as np\nimport matplotlib.pyplot as plt\n\nx = np.array([80, 85, 90, 95, 100, 105, 110, 115, 120, 125])\ny = np.array([240, 250, 260, 270, 280, 290, 300, 310, 320, 330])\n\nplt.title(\"Sports Watch Data\", loc = 'left')\nplt.xlabel(\"Average Pulse\")\nplt.ylabel(\"Calorie Burnage\")\n\nplt.plot(x, y)\nplt.show()",
      "metadata": {
        "trusted": true
      },
      "execution_count": null,
      "outputs": []
    },
    {
      "cell_type": "code",
      "source": "",
      "metadata": {},
      "execution_count": null,
      "outputs": []
    }
  ]
}