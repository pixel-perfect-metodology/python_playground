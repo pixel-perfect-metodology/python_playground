{
  "metadata": {
    "language_info": {
      "name": ""
    },
    "kernelspec": {
      "name": "python",
      "display_name": "Python (Pyodide)",
      "language": "python"
    }
  },
  "nbformat_minor": 4,
  "nbformat": 4,
  "cells": [
    {
      "cell_type": "code",
      "source": "import numpy as np\nimport matplotlib.pyplot as plt\n\nx = np.array([80, 85, 90, 95, 100, 105, 110, 115, 120, 125])\ny = np.array([240, 250, 260, 270, 280, 290, 300, 310, 320, 330])\n\nplt.title(\"Sports Watch Data\")\nplt.xlabel(\"Average Pulse\")\nplt.ylabel(\"Calorie Burnage\")\n\nplt.plot(x, y)\n\nplt.grid()\n\nplt.show()",
      "metadata": {
        "trusted": true
      },
      "execution_count": null,
      "outputs": []
    },
    {
      "cell_type": "code",
      "source": "import numpy as np\nimport matplotlib.pyplot as plt\n\nx = np.array([80, 85, 90, 95, 100, 105, 110, 115, 120, 125])\ny = np.array([240, 250, 260, 270, 280, 290, 300, 310, 320, 330])\n\nplt.title(\"Sports Watch Data\")\nplt.xlabel(\"Average Pulse\")\nplt.ylabel(\"Calorie Burnage\")\n\nplt.plot(x, y)\n\nplt.grid(axis = 'x')\n\nplt.show()",
      "metadata": {
        "trusted": true
      },
      "execution_count": null,
      "outputs": []
    },
    {
      "cell_type": "code",
      "source": "import numpy as np\nimport matplotlib.pyplot as plt\n\nx = np.array([80, 85, 90, 95, 100, 105, 110, 115, 120, 125])\ny = np.array([240, 250, 260, 270, 280, 290, 300, 310, 320, 330])\n\nplt.title(\"Sports Watch Data\")\nplt.xlabel(\"Average Pulse\")\nplt.ylabel(\"Calorie Burnage\")\n\nplt.plot(x, y)\n\nplt.grid(axis = 'y')\n\nplt.show()",
      "metadata": {
        "trusted": true
      },
      "execution_count": null,
      "outputs": []
    },
    {
      "cell_type": "code",
      "source": "import numpy as np\nimport matplotlib.pyplot as plt\n\nx = np.array([80, 85, 90, 95, 100, 105, 110, 115, 120, 125])\ny = np.array([240, 250, 260, 270, 280, 290, 300, 310, 320, 330])\n\nplt.title(\"Sports Watch Data\")\nplt.xlabel(\"Average Pulse\")\nplt.ylabel(\"Calorie Burnage\")\n\nplt.plot(x, y)\n\nplt.grid(color = 'green', linestyle = '--', linewidth = 0.5)\n\nplt.show()",
      "metadata": {
        "trusted": true
      },
      "execution_count": null,
      "outputs": []
    },
    {
      "cell_type": "code",
      "source": "",
      "metadata": {},
      "execution_count": null,
      "outputs": []
    }
  ]
}