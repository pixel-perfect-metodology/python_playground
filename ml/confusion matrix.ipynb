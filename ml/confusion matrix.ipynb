{
  "metadata": {
    "language_info": {
      "codemirror_mode": {
        "name": "python",
        "version": 3
      },
      "file_extension": ".py",
      "mimetype": "text/x-python",
      "name": "python",
      "nbconvert_exporter": "python",
      "pygments_lexer": "ipython3",
      "version": "3.8"
    },
    "kernelspec": {
      "name": "python",
      "display_name": "Python (Pyodide)",
      "language": "python"
    }
  },
  "nbformat_minor": 4,
  "nbformat": 4,
  "cells": [
    {
      "cell_type": "markdown",
      "source": "# Confusion Matrix",
      "metadata": {}
    },
    {
      "cell_type": "markdown",
      "source": "It is a table that is used in classification problems to assess where errors in the model were made.\n\nThe rows represent the actual classes the outcomes should have been. While the columns represent the predictions we have made. Using this table it is easy to see which predictions are wrong.\n\nConfusion matrixes can be created by predictions made from a logistic regression.",
      "metadata": {}
    },
    {
      "cell_type": "code",
      "source": "import numpy\nfrom sklearn import metrics\nimport matplotlib.pyplot as plt\n\nactual = numpy.random.binomial(1, 0.9, size = 1000)\npredicted = numpy.random.binomial(1, 0.9, size = 1000)\n\nconfusion_matrix = metrics.confusion_matrix(actual, predicted)\ncm_display = metrics.ConfusionMatrixDisplay(confusion_matrix = confusion_matrix, display_labels = [False, True])\n\ncm_display.plot()\nplt.show()",
      "metadata": {
        "trusted": true
      },
      "execution_count": 1,
      "outputs": [
        {
          "output_type": "display_data",
          "data": {
            "text/plain": "<Figure size 640x480 with 2 Axes>",
            "image/png": "[encoded data removed]"
          },
          "metadata": {}
        }
      ]
    },
    {
      "cell_type": "markdown",
      "source": "Results Explanation\n\nThe Confusion Matrix created has four different quadrants:\n\n`True Negative` (Top-Left Quadrant)\n`False Positive` (Top-Right Quadrant)\n`False Negative` (Bottom-Left Quadrant)\n`True Positive` (Bottom-Right Quadrant)\n\nTrue means that the values were accurately predicted, False means that there was an error or wrong prediction.",
      "metadata": {}
    },
    {
      "cell_type": "markdown",
      "source": "Now that we have made a Confusion Matrix, we can calculate different measures to quantify the quality of the model. First, lets look at Accuracy.",
      "metadata": {}
    },
    {
      "cell_type": "markdown",
      "source": "## Created Metrics\n\nThe matrix provides us with many useful metrics that help us to evaluate out classification model.\n\nThe different measures include: `Accuracy`, `Precision`, `Sensitivity (Recall)`, `Specificity`, and the `F-score`, explained below.",
      "metadata": {}
    },
    {
      "cell_type": "markdown",
      "source": "### Accuracy\n\nAccuracy measures how often the model is correct.\n\nHow to Calculate:\n\n`(True Positive + True Negative) / Total Predictions`",
      "metadata": {}
    },
    {
      "cell_type": "code",
      "source": "Accuracy = metrics.accuracy_score(actual, predicted)\n\nprint(Accuracy)",
      "metadata": {
        "trusted": true
      },
      "execution_count": 3,
      "outputs": [
        {
          "name": "stdout",
          "text": "0.826\n",
          "output_type": "stream"
        }
      ]
    },
    {
      "cell_type": "markdown",
      "source": "### Precision\n\nOf the positives predicted, what percentage is truly positive?\n\nHow to Calculate:\n    \n`True Positive / (True Positive + False Positive)`\n\nPrecision does not evaluate the correctly predicted negative cases",
      "metadata": {}
    },
    {
      "cell_type": "code",
      "source": "Precision = metrics.precision_score(actual, predicted)\nprint(Precision)",
      "metadata": {
        "trusted": true
      },
      "execution_count": 5,
      "outputs": [
        {
          "name": "stdout",
          "text": "0.8972375690607735\n",
          "output_type": "stream"
        }
      ]
    },
    {
      "cell_type": "markdown",
      "source": "### Sensitivity (Recall)\n\nOf all the positive cases, what percentage are predicted positive?\n\nSensitivity (sometimes called Recall) measures how good the model is at predicting positives.\n\nThis means it looks at true positives and false negatives (which are positives that have been incorrectly predicted as negative).\n\nHow to Calculate:\n\n`True Positive / (True Positive + False Negative)`\n\nSensitivity is good at understanding how well the model predicts something is positive",
      "metadata": {}
    },
    {
      "cell_type": "code",
      "source": "Sensitivity_recall = metrics.recall_score(actual, predicted)\nprint(Sensitivity_recall)",
      "metadata": {
        "trusted": true
      },
      "execution_count": 6,
      "outputs": [
        {
          "name": "stdout",
          "text": "0.9092945128779395\n",
          "output_type": "stream"
        }
      ]
    },
    {
      "cell_type": "markdown",
      "source": "### Specificity\n\nHow well the model is at prediciting negative results?\n\nSpecificity is similar to sensitivity, but looks at it from the persepctive of negative results.\n\nHow to Calculate:\n    \n`True Negative / (True Negative + False Positive)`\n\nSince it is just the opposite of Recall, we use the recall_score function, taking the opposite position label",
      "metadata": {}
    },
    {
      "cell_type": "code",
      "source": "Specificity = metrics.recall_score(actual, predicted, pos_label=0)\nprint(Specificity)",
      "metadata": {
        "trusted": true
      },
      "execution_count": 8,
      "outputs": [
        {
          "name": "stdout",
          "text": "0.1308411214953271\n",
          "output_type": "stream"
        }
      ]
    },
    {
      "cell_type": "markdown",
      "source": "### F-score\n\nF-score is the \"harmonic mean\" of precision and sensitivity.\n\nIt considers both false positive and false negative cases and is good for imbalanced datasets.\n\nHow to Calculate:\n    \n`2 * ((Precision * Sensitivity) / (Precision + Sensitivity))`\n\nThis score does not take into consideration the True Negative values",
      "metadata": {}
    },
    {
      "cell_type": "code",
      "source": "F1_score = metrics.f1_score(actual, predicted)\nprint(F1_score)",
      "metadata": {
        "trusted": true
      },
      "execution_count": 9,
      "outputs": [
        {
          "name": "stdout",
          "text": "0.9032258064516128\n",
          "output_type": "stream"
        }
      ]
    },
    {
      "cell_type": "code",
      "source": "# model metrics\nprint({\"Accuracy\":Accuracy,\"Precision\":Precision,\"Sensitivity_recall\":Sensitivity_recall,\"Specificity\":Specificity,\"F1_score\":F1_score})",
      "metadata": {
        "trusted": true
      },
      "execution_count": 10,
      "outputs": [
        {
          "name": "stdout",
          "text": "{'Accuracy': 0.826, 'Precision': 0.8972375690607735, 'Sensitivity_recall': 0.9092945128779395, 'Specificity': 0.1308411214953271, 'F1_score': 0.9032258064516128}\n",
          "output_type": "stream"
        }
      ]
    },
    {
      "cell_type": "code",
      "source": "",
      "metadata": {},
      "execution_count": null,
      "outputs": []
    }
  ]
}