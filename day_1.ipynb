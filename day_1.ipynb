{
  "metadata": {
    "widgets": {
      "application/vnd.jupyter.widget-state+json": {
        "version_major": 2,
        "version_minor": 0,
        "state": {}
      }
    },
    "language_info": {
      "codemirror_mode": {
        "name": "python",
        "version": 3
      },
      "file_extension": ".py",
      "mimetype": "text/x-python",
      "name": "python",
      "nbconvert_exporter": "python",
      "pygments_lexer": "ipython3",
      "version": "3.8"
    },
    "kernelspec": {
      "name": "python",
      "display_name": "Python (Pyodide)",
      "language": "python"
    }
  },
  "nbformat_minor": 4,
  "nbformat": 4,
  "cells": [
    {
      "cell_type": "code",
      "source": "import numpy\n\nspeed = [99,86,87,88,111,86,103,87,94,78,77,85,86]\n\nx = numpy.mean(speed)\n\nprint(x)",
      "metadata": {
        "trusted": true
      },
      "execution_count": 1,
      "outputs": [
        {
          "name": "stdout",
          "text": "89.76923076923077\n",
          "output_type": "stream"
        }
      ]
    },
    {
      "cell_type": "code",
      "source": "import numpy\n\nspeed = [99,86,87,88,111,86,103,87,94,78,77,85,86]\n\nx = numpy.median(speed)\n\nprint(x)",
      "metadata": {
        "trusted": true
      },
      "execution_count": 2,
      "outputs": [
        {
          "name": "stdout",
          "text": "87.0\n",
          "output_type": "stream"
        }
      ]
    },
    {
      "cell_type": "code",
      "source": "import numpy\n\nspeed = [99,86,87,88,86,103,87,94,78,77,85,86]\n\nx = numpy.median(speed)\n\nprint(x)",
      "metadata": {
        "trusted": true
      },
      "execution_count": 3,
      "outputs": [
        {
          "name": "stdout",
          "text": "86.5\n",
          "output_type": "stream"
        }
      ]
    },
    {
      "cell_type": "code",
      "source": "from scipy import stats\n\nspeed = [99,86,87,88,111,86,103,87,94,78,77,85,86]\n\nx = stats.mode(speed, keepdims=True)\n\nprint(x)",
      "metadata": {
        "trusted": true
      },
      "execution_count": 2,
      "outputs": [
        {
          "name": "stdout",
          "text": "ModeResult(mode=array([86]), count=array([3]))\n",
          "output_type": "stream"
        }
      ]
    },
    {
      "cell_type": "code",
      "source": "",
      "metadata": {},
      "execution_count": null,
      "outputs": []
    }
  ]
}